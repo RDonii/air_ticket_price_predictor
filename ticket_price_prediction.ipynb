{
 "cells": [
  {
   "cell_type": "code",
   "execution_count": 52,
   "metadata": {},
   "outputs": [],
   "source": [
    "import pandas as pd\n",
    "import numpy as np\n",
    "import seaborn as sns\n",
    "import matplotlib.pyplot as plt\n",
    "from sklearn.model_selection import train_test_split\n",
    "from sklearn.preprocessing import OrdinalEncoder, OneHotEncoder, StandardScaler\n",
    "from sklearn.compose import ColumnTransformer\n",
    "from sklearn.ensemble import RandomForestRegressor\n",
    "from sklearn.base import BaseEstimator, TransformerMixin\n",
    "from sklearn.pipeline import Pipeline\n",
    "from sklearn.metrics import mean_absolute_error, mean_squared_error\n",
    "from sklearn.svm import SVR\n",
    "from sklearn.linear_model import ElasticNet, Ridge, Lars, LassoLars, LogisticRegression, TweedieRegressor\n",
    "from sklearn.neural_network import MLPRegressor\n",
    "from sklearn.tree import DecisionTreeRegressor\n",
    "from sklearn.model_selection import cross_val_score"
   ]
  },
  {
   "cell_type": "code",
   "execution_count": 2,
   "metadata": {},
   "outputs": [
    {
     "data": {
      "text/html": [
       "<div>\n",
       "<style scoped>\n",
       "    .dataframe tbody tr th:only-of-type {\n",
       "        vertical-align: middle;\n",
       "    }\n",
       "\n",
       "    .dataframe tbody tr th {\n",
       "        vertical-align: top;\n",
       "    }\n",
       "\n",
       "    .dataframe thead th {\n",
       "        text-align: right;\n",
       "    }\n",
       "</style>\n",
       "<table border=\"1\" class=\"dataframe\">\n",
       "  <thead>\n",
       "    <tr style=\"text-align: right;\">\n",
       "      <th></th>\n",
       "      <th>airline</th>\n",
       "      <th>flight</th>\n",
       "      <th>source_city</th>\n",
       "      <th>departure_time</th>\n",
       "      <th>stops</th>\n",
       "      <th>arrival_time</th>\n",
       "      <th>destination_city</th>\n",
       "      <th>class</th>\n",
       "      <th>duration</th>\n",
       "      <th>days_left</th>\n",
       "      <th>price</th>\n",
       "    </tr>\n",
       "    <tr>\n",
       "      <th>id</th>\n",
       "      <th></th>\n",
       "      <th></th>\n",
       "      <th></th>\n",
       "      <th></th>\n",
       "      <th></th>\n",
       "      <th></th>\n",
       "      <th></th>\n",
       "      <th></th>\n",
       "      <th></th>\n",
       "      <th></th>\n",
       "      <th></th>\n",
       "    </tr>\n",
       "  </thead>\n",
       "  <tbody>\n",
       "    <tr>\n",
       "      <th>1</th>\n",
       "      <td>Vistara</td>\n",
       "      <td>UK-810</td>\n",
       "      <td>Bangalore</td>\n",
       "      <td>Early_Morning</td>\n",
       "      <td>one</td>\n",
       "      <td>Night</td>\n",
       "      <td>Mumbai</td>\n",
       "      <td>Economy</td>\n",
       "      <td>14.25</td>\n",
       "      <td>21</td>\n",
       "      <td>7212</td>\n",
       "    </tr>\n",
       "    <tr>\n",
       "      <th>2</th>\n",
       "      <td>SpiceJet</td>\n",
       "      <td>SG-5094</td>\n",
       "      <td>Hyderabad</td>\n",
       "      <td>Evening</td>\n",
       "      <td>zero</td>\n",
       "      <td>Night</td>\n",
       "      <td>Kolkata</td>\n",
       "      <td>Economy</td>\n",
       "      <td>1.75</td>\n",
       "      <td>7</td>\n",
       "      <td>5292</td>\n",
       "    </tr>\n",
       "    <tr>\n",
       "      <th>3</th>\n",
       "      <td>Vistara</td>\n",
       "      <td>UK-846</td>\n",
       "      <td>Bangalore</td>\n",
       "      <td>Morning</td>\n",
       "      <td>one</td>\n",
       "      <td>Evening</td>\n",
       "      <td>Delhi</td>\n",
       "      <td>Business</td>\n",
       "      <td>9.58</td>\n",
       "      <td>5</td>\n",
       "      <td>60553</td>\n",
       "    </tr>\n",
       "    <tr>\n",
       "      <th>4</th>\n",
       "      <td>Vistara</td>\n",
       "      <td>UK-706</td>\n",
       "      <td>Kolkata</td>\n",
       "      <td>Morning</td>\n",
       "      <td>one</td>\n",
       "      <td>Evening</td>\n",
       "      <td>Hyderabad</td>\n",
       "      <td>Economy</td>\n",
       "      <td>6.75</td>\n",
       "      <td>28</td>\n",
       "      <td>5760</td>\n",
       "    </tr>\n",
       "    <tr>\n",
       "      <th>5</th>\n",
       "      <td>Indigo</td>\n",
       "      <td>6E-5394</td>\n",
       "      <td>Chennai</td>\n",
       "      <td>Early_Morning</td>\n",
       "      <td>zero</td>\n",
       "      <td>Morning</td>\n",
       "      <td>Mumbai</td>\n",
       "      <td>Economy</td>\n",
       "      <td>2.00</td>\n",
       "      <td>4</td>\n",
       "      <td>10712</td>\n",
       "    </tr>\n",
       "  </tbody>\n",
       "</table>\n",
       "</div>"
      ],
      "text/plain": [
       "     airline   flight source_city departure_time stops arrival_time  \\\n",
       "id                                                                    \n",
       "1    Vistara   UK-810   Bangalore  Early_Morning   one        Night   \n",
       "2   SpiceJet  SG-5094   Hyderabad        Evening  zero        Night   \n",
       "3    Vistara   UK-846   Bangalore        Morning   one      Evening   \n",
       "4    Vistara   UK-706     Kolkata        Morning   one      Evening   \n",
       "5     Indigo  6E-5394     Chennai  Early_Morning  zero      Morning   \n",
       "\n",
       "   destination_city     class  duration  days_left  price  \n",
       "id                                                         \n",
       "1            Mumbai   Economy     14.25         21   7212  \n",
       "2           Kolkata   Economy      1.75          7   5292  \n",
       "3             Delhi  Business      9.58          5  60553  \n",
       "4         Hyderabad   Economy      6.75         28   5760  \n",
       "5            Mumbai   Economy      2.00          4  10712  "
      ]
     },
     "execution_count": 2,
     "metadata": {},
     "output_type": "execute_result"
    }
   ],
   "source": [
    "data = pd.read_csv('./data/train_data.csv', index_col=0)\n",
    "data.head()"
   ]
  },
  {
   "cell_type": "code",
   "execution_count": 3,
   "metadata": {},
   "outputs": [
    {
     "name": "stdout",
     "output_type": "stream",
     "text": [
      "['UK-810' 'SG-5094' 'UK-846' ... 'AI-489' 'G8-213' '6E-7201']\n",
      "(1310,)\n",
      "['UK' 'SG' '6E' 'AI' 'G8' 'I5']\n",
      "6\n"
     ]
    }
   ],
   "source": [
    "ffull = data.flight.unique()\n",
    "print(ffull)\n",
    "print(ffull.shape) # flight kategoriyalar soni\n",
    "fchars = pd.Series(ffull).apply(lambda x :x.split('-')[0]).unique()\n",
    "print(fchars)\n",
    "print(len(fchars)) # flight boshidagi harflar uchun kategoriyalar soni"
   ]
  },
  {
   "attachments": {},
   "cell_type": "markdown",
   "metadata": {},
   "source": [
    "### Wikipediadan o'qib qilingan xulosa shu bo'ldikiy, bizdagi flight ning raqamli qismi uchish narxiga ta'sirsiz. Lekin xarflar havo yo'lini bildirib narxga ta'sir qilishi mumkin. Shu sabab flight ustunidan raqamlarni olib tashlaymiz."
   ]
  },
  {
   "cell_type": "code",
   "execution_count": 5,
   "metadata": {},
   "outputs": [],
   "source": [
    "from typing import Union\n",
    "\n",
    "class NumCutter(BaseEstimator, TransformerMixin):\n",
    "    # transformer qayta foydalanishga moslanib cols da kesib olinadigan ustunlar ro'yxatini va split_char da kesiladigan belgini qabul qiladi\n",
    "    def __init__(self, cols: Union[list, np.array, pd.Index], split_char='-') -> None:\n",
    "        self.cols = cols\n",
    "        self.split_char = split_char\n",
    "    def fit(self, X, y=None):\n",
    "        return self\n",
    "    def transform(self, X: pd.DataFrame):\n",
    "        for col in self.cols:\n",
    "            X[col] = X[col].apply(lambda item: item.split(self.split_char)[0])\n",
    "        return X"
   ]
  },
  {
   "cell_type": "code",
   "execution_count": 6,
   "metadata": {},
   "outputs": [],
   "source": [
    "train_set, test_set = train_test_split(data, test_size=0.2, random_state=24)"
   ]
  },
  {
   "cell_type": "code",
   "execution_count": 7,
   "metadata": {},
   "outputs": [],
   "source": [
    "train_x = train_set.drop('price', axis=1)\n",
    "y = train_set['price'].copy()"
   ]
  },
  {
   "cell_type": "code",
   "execution_count": 8,
   "metadata": {},
   "outputs": [],
   "source": [
    "ohot_cats = ['airline', 'flight', 'departure_time', 'arrival_time', 'source_city', 'destination_city']\n",
    "ordinal_cats = ['stops', 'class']\n",
    "nums = ['duration', 'days_left']"
   ]
  },
  {
   "cell_type": "code",
   "execution_count": 9,
   "metadata": {},
   "outputs": [
    {
     "name": "stdout",
     "output_type": "stream",
     "text": [
      "['zero' 'one' 'two_or_more']\n",
      "['Economy' 'Business']\n"
     ]
    }
   ],
   "source": [
    "print(train_set.stops.unique())\n",
    "print(train_set['class'].unique())"
   ]
  },
  {
   "cell_type": "code",
   "execution_count": 10,
   "metadata": {},
   "outputs": [],
   "source": [
    "# oldindan yaratib olishdan maqsad tartibiga ko'ra 0 1 va 2 raqamlarini oladi\n",
    "stops_enc = OrdinalEncoder(categories=[['zero', 'one', 'two_or_more']])\n",
    "class_enc = OrdinalEncoder(categories=[['Economy', 'Business']])"
   ]
  },
  {
   "cell_type": "code",
   "execution_count": 11,
   "metadata": {},
   "outputs": [],
   "source": [
    "main_tf = ColumnTransformer([\n",
    "    ('num', StandardScaler(), nums),\n",
    "    ('stops', stops_enc, ['stops',]),\n",
    "    ('class', class_enc, ['class',]),\n",
    "    ('ohots', OneHotEncoder(), ohot_cats)\n",
    "],# + oht_list,\n",
    "sparse_threshold=0)\n",
    "\n",
    "pipline = Pipeline([\n",
    "    ('splitter_tf', NumCutter(['flight'])),\n",
    "    ('main_tf', main_tf),\n",
    "])"
   ]
  },
  {
   "cell_type": "code",
   "execution_count": 12,
   "metadata": {},
   "outputs": [],
   "source": [
    "X = pipline.fit_transform(train_x)"
   ]
  },
  {
   "cell_type": "code",
   "execution_count": 13,
   "metadata": {},
   "outputs": [
    {
     "data": {
      "text/plain": [
       "(16000, 40)"
      ]
     },
     "execution_count": 13,
     "metadata": {},
     "output_type": "execute_result"
    }
   ],
   "source": [
    "X.shape"
   ]
  },
  {
   "cell_type": "code",
   "execution_count": 17,
   "metadata": {},
   "outputs": [],
   "source": [
    "test_X = pipline.fit_transform(test_set.drop('price', axis=1))\n",
    "y_test = test_set['price'].copy()"
   ]
  },
  {
   "cell_type": "code",
   "execution_count": null,
   "metadata": {},
   "outputs": [],
   "source": [
    "# model = RandomForestRegressor()\n",
    "# model.fit(X, y)\n",
    "# predict = model.predict(test_X)\n",
    "# MAE = mean_absolute_error(y_test, predict)\n",
    "# RMSE = np.sqrt(mean_squared_error(y_test, predict))\n",
    "# print(f\"{MAE=}\")\n",
    "# print(f\"{RMSE=}\")"
   ]
  },
  {
   "cell_type": "code",
   "execution_count": 22,
   "metadata": {},
   "outputs": [
    {
     "name": "stdout",
     "output_type": "stream",
     "text": [
      "RF_MAE=2093.0162648333335\n",
      "RF_RMSE=3904.4180583584457\n"
     ]
    }
   ],
   "source": [
    "RF_model = RandomForestRegressor()\n",
    "RF_model.fit(X, y)\n",
    "RF_predict = RF_model.predict(test_X)\n",
    "RF_MAE = mean_absolute_error(y_test, RF_predict)\n",
    "RF_RMSE = np.sqrt(mean_squared_error(y_test, RF_predict))\n",
    "print(f\"{RF_MAE=}\")\n",
    "print(f\"{RF_RMSE=}\")"
   ]
  },
  {
   "cell_type": "code",
   "execution_count": 25,
   "metadata": {},
   "outputs": [
    {
     "name": "stdout",
     "output_type": "stream",
     "text": [
      "SVM_MAE=15895.734773245631\n",
      "SVM_RMSE=26250.463798357876\n"
     ]
    }
   ],
   "source": [
    "SVM_model = SVR()\n",
    "SVM_model.fit(X, y)\n",
    "SVM_predict = SVM_model.predict(test_X)\n",
    "SVM_MAE = mean_absolute_error(y_test, SVM_predict)\n",
    "SVM_RMSE = np.sqrt(mean_squared_error(y_test, SVM_predict))\n",
    "print(f\"{SVM_MAE=}\")\n",
    "print(f\"{SVM_RMSE=}\")"
   ]
  },
  {
   "cell_type": "code",
   "execution_count": 37,
   "metadata": {},
   "outputs": [
    {
     "name": "stdout",
     "output_type": "stream",
     "text": [
      "EL_MAE=12958.869213502567\n",
      "EL_RMSE=15687.371768934929\n"
     ]
    }
   ],
   "source": [
    "EL_model = ElasticNet()\n",
    "EL_model.fit(X, y)\n",
    "EL_predict = EL_model.predict(test_X)\n",
    "EL_MAE = mean_absolute_error(y_test, EL_predict)\n",
    "EL_RMSE = np.sqrt(mean_squared_error(y_test, EL_predict))\n",
    "print(f\"{EL_MAE=}\")\n",
    "print(f\"{EL_RMSE=}\")"
   ]
  },
  {
   "cell_type": "code",
   "execution_count": 38,
   "metadata": {},
   "outputs": [
    {
     "name": "stdout",
     "output_type": "stream",
     "text": [
      "RD_MAE=4503.473147579058\n",
      "RD_RMSE=6755.79765811301\n"
     ]
    }
   ],
   "source": [
    "RD_model = Ridge()\n",
    "RD_model.fit(X, y)\n",
    "RD_predict = RD_model.predict(test_X)\n",
    "RD_MAE = mean_absolute_error(y_test, RD_predict)\n",
    "RD_RMSE = np.sqrt(mean_squared_error(y_test, RD_predict))\n",
    "print(f\"{RD_MAE=}\")\n",
    "print(f\"{RD_RMSE=}\")"
   ]
  },
  {
   "cell_type": "code",
   "execution_count": 39,
   "metadata": {},
   "outputs": [
    {
     "name": "stdout",
     "output_type": "stream",
     "text": [
      "LRS_MAE=4505.17375\n",
      "LRS_RMSE=6756.970719912141\n"
     ]
    },
    {
     "name": "stderr",
     "output_type": "stream",
     "text": [
      "/home/doni/miniconda3/envs/ml/lib/python3.8/site-packages/sklearn/linear_model/_least_angle.py:649: ConvergenceWarning: Regressors in active set degenerate. Dropping a regressor, after 31 iterations, i.e. alpha=8.065e-01, with an active set of 30 regressors, and the smallest cholesky pivot element being 2.220e-16. Reduce max_iter or increase eps parameters.\n",
      "  warnings.warn(\n",
      "/home/doni/miniconda3/envs/ml/lib/python3.8/site-packages/sklearn/linear_model/_least_angle.py:649: ConvergenceWarning: Regressors in active set degenerate. Dropping a regressor, after 32 iterations, i.e. alpha=8.065e-01, with an active set of 31 regressors, and the smallest cholesky pivot element being 2.220e-16. Reduce max_iter or increase eps parameters.\n",
      "  warnings.warn(\n",
      "/home/doni/miniconda3/envs/ml/lib/python3.8/site-packages/sklearn/linear_model/_least_angle.py:649: ConvergenceWarning: Regressors in active set degenerate. Dropping a regressor, after 37 iterations, i.e. alpha=8.065e-01, with an active set of 34 regressors, and the smallest cholesky pivot element being 2.220e-16. Reduce max_iter or increase eps parameters.\n",
      "  warnings.warn(\n",
      "/home/doni/miniconda3/envs/ml/lib/python3.8/site-packages/sklearn/linear_model/_least_angle.py:649: ConvergenceWarning: Regressors in active set degenerate. Dropping a regressor, after 39 iterations, i.e. alpha=6.345e-01, with an active set of 35 regressors, and the smallest cholesky pivot element being 2.220e-16. Reduce max_iter or increase eps parameters.\n",
      "  warnings.warn(\n",
      "/home/doni/miniconda3/envs/ml/lib/python3.8/site-packages/sklearn/linear_model/_least_angle.py:649: ConvergenceWarning: Regressors in active set degenerate. Dropping a regressor, after 43 iterations, i.e. alpha=4.910e-01, with an active set of 37 regressors, and the smallest cholesky pivot element being 2.220e-16. Reduce max_iter or increase eps parameters.\n",
      "  warnings.warn(\n",
      "/home/doni/miniconda3/envs/ml/lib/python3.8/site-packages/sklearn/linear_model/_least_angle.py:649: ConvergenceWarning: Regressors in active set degenerate. Dropping a regressor, after 43 iterations, i.e. alpha=3.618e-01, with an active set of 37 regressors, and the smallest cholesky pivot element being 2.220e-16. Reduce max_iter or increase eps parameters.\n",
      "  warnings.warn(\n",
      "/home/doni/miniconda3/envs/ml/lib/python3.8/site-packages/sklearn/linear_model/_least_angle.py:649: ConvergenceWarning: Regressors in active set degenerate. Dropping a regressor, after 46 iterations, i.e. alpha=1.338e-01, with an active set of 38 regressors, and the smallest cholesky pivot element being 2.220e-16. Reduce max_iter or increase eps parameters.\n",
      "  warnings.warn(\n",
      "/home/doni/miniconda3/envs/ml/lib/python3.8/site-packages/sklearn/linear_model/_least_angle.py:649: ConvergenceWarning: Regressors in active set degenerate. Dropping a regressor, after 46 iterations, i.e. alpha=1.119e-01, with an active set of 38 regressors, and the smallest cholesky pivot element being 2.220e-16. Reduce max_iter or increase eps parameters.\n",
      "  warnings.warn(\n"
     ]
    }
   ],
   "source": [
    "LRS_model = Lars()\n",
    "LRS_model.fit(X, y)\n",
    "LRS_predict = LRS_model.predict(test_X)\n",
    "LRS_MAE = mean_absolute_error(y_test, LRS_predict)\n",
    "LRS_RMSE = np.sqrt(mean_squared_error(y_test, LRS_predict))\n",
    "print(f\"{LRS_MAE=}\")\n",
    "print(f\"{LRS_RMSE=}\")"
   ]
  },
  {
   "cell_type": "code",
   "execution_count": 40,
   "metadata": {},
   "outputs": [
    {
     "name": "stdout",
     "output_type": "stream",
     "text": [
      "LLRS_MAE=4501.713374682694\n",
      "LLRS_RMSE=6755.515246387858\n"
     ]
    }
   ],
   "source": [
    "LLRS_model = LassoLars()\n",
    "LLRS_model.fit(X, y)\n",
    "LLRS_predict = LLRS_model.predict(test_X)\n",
    "LLRS_MAE = mean_absolute_error(y_test, LLRS_predict)\n",
    "LLRS_RMSE = np.sqrt(mean_squared_error(y_test, LLRS_predict))\n",
    "print(f\"{LLRS_MAE=}\")\n",
    "print(f\"{LLRS_RMSE=}\")"
   ]
  },
  {
   "cell_type": "code",
   "execution_count": 41,
   "metadata": {},
   "outputs": [
    {
     "name": "stderr",
     "output_type": "stream",
     "text": [
      "/home/doni/miniconda3/envs/ml/lib/python3.8/site-packages/sklearn/linear_model/_logistic.py:458: ConvergenceWarning: lbfgs failed to converge (status=1):\n",
      "STOP: TOTAL NO. of ITERATIONS REACHED LIMIT.\n",
      "\n",
      "Increase the number of iterations (max_iter) or scale the data as shown in:\n",
      "    https://scikit-learn.org/stable/modules/preprocessing.html\n",
      "Please also refer to the documentation for alternative solver options:\n",
      "    https://scikit-learn.org/stable/modules/linear_model.html#logistic-regression\n",
      "  n_iter_i = _check_optimize_result(\n"
     ]
    },
    {
     "name": "stdout",
     "output_type": "stream",
     "text": [
      "LOG_MAE=3328.4195\n",
      "LOG_RMSE=8032.70612209858\n"
     ]
    }
   ],
   "source": [
    "LOG_model = LogisticRegression()\n",
    "LOG_model.fit(X, y)\n",
    "LOG_predict = LOG_model.predict(test_X)\n",
    "LOG_MAE = mean_absolute_error(y_test, LOG_predict)\n",
    "LOG_RMSE = np.sqrt(mean_squared_error(y_test, LOG_predict))\n",
    "print(f\"{LOG_MAE=}\")\n",
    "print(f\"{LOG_RMSE=}\")"
   ]
  },
  {
   "cell_type": "code",
   "execution_count": 42,
   "metadata": {},
   "outputs": [
    {
     "name": "stdout",
     "output_type": "stream",
     "text": [
      "TR_MAE=15379.452365262765\n",
      "TR_RMSE=18093.28455544584\n"
     ]
    }
   ],
   "source": [
    "TR_model = TweedieRegressor()\n",
    "TR_model.fit(X, y)\n",
    "TR_predict = TR_model.predict(test_X)\n",
    "TR_MAE = mean_absolute_error(y_test, TR_predict)\n",
    "TR_RMSE = np.sqrt(mean_squared_error(y_test, TR_predict))\n",
    "print(f\"{TR_MAE=}\")\n",
    "print(f\"{TR_RMSE=}\")"
   ]
  },
  {
   "cell_type": "code",
   "execution_count": 44,
   "metadata": {},
   "outputs": [
    {
     "name": "stdout",
     "output_type": "stream",
     "text": [
      "NN_MAE=9938.254807761208\n",
      "NN_RMSE=12608.933900303156\n"
     ]
    },
    {
     "name": "stderr",
     "output_type": "stream",
     "text": [
      "/home/doni/miniconda3/envs/ml/lib/python3.8/site-packages/sklearn/neural_network/_multilayer_perceptron.py:679: ConvergenceWarning: Stochastic Optimizer: Maximum iterations (200) reached and the optimization hasn't converged yet.\n",
      "  warnings.warn(\n"
     ]
    }
   ],
   "source": [
    "NN_model = MLPRegressor()\n",
    "NN_model.fit(X, y)\n",
    "NN_predict = NN_model.predict(test_X)\n",
    "NN_MAE = mean_absolute_error(y_test, NN_predict)\n",
    "NN_RMSE = np.sqrt(mean_squared_error(y_test, NN_predict))\n",
    "print(f\"{NN_MAE=}\")\n",
    "print(f\"{NN_RMSE=}\")"
   ]
  },
  {
   "cell_type": "code",
   "execution_count": 51,
   "metadata": {},
   "outputs": [
    {
     "name": "stdout",
     "output_type": "stream",
     "text": [
      "DT_MAE=2363.174\n",
      "DT_RMSE=5070.578932318775\n"
     ]
    }
   ],
   "source": [
    "DT_model = DecisionTreeRegressor()\n",
    "DT_model.fit(X, y)\n",
    "DT_predict = DT_model.predict(test_X)\n",
    "DT_MAE = mean_absolute_error(y_test, DT_predict)\n",
    "DT_RMSE = np.sqrt(mean_squared_error(y_test, DT_predict))\n",
    "print(f\"{DT_MAE=}\")\n",
    "print(f\"{DT_RMSE=}\")"
   ]
  },
  {
   "attachments": {},
   "cell_type": "markdown",
   "metadata": {},
   "source": [
    "### Natijalarga ko'ra RandomForest modelida to'xtalinildi"
   ]
  },
  {
   "attachments": {},
   "cell_type": "markdown",
   "metadata": {},
   "source": [
    "# Test prediction results"
   ]
  },
  {
   "cell_type": "code",
   "execution_count": 45,
   "metadata": {},
   "outputs": [
    {
     "data": {
      "text/html": [
       "<div>\n",
       "<style scoped>\n",
       "    .dataframe tbody tr th:only-of-type {\n",
       "        vertical-align: middle;\n",
       "    }\n",
       "\n",
       "    .dataframe tbody tr th {\n",
       "        vertical-align: top;\n",
       "    }\n",
       "\n",
       "    .dataframe thead th {\n",
       "        text-align: right;\n",
       "    }\n",
       "</style>\n",
       "<table border=\"1\" class=\"dataframe\">\n",
       "  <thead>\n",
       "    <tr style=\"text-align: right;\">\n",
       "      <th></th>\n",
       "      <th>airline</th>\n",
       "      <th>flight</th>\n",
       "      <th>source_city</th>\n",
       "      <th>departure_time</th>\n",
       "      <th>stops</th>\n",
       "      <th>arrival_time</th>\n",
       "      <th>destination_city</th>\n",
       "      <th>class</th>\n",
       "      <th>duration</th>\n",
       "      <th>days_left</th>\n",
       "    </tr>\n",
       "    <tr>\n",
       "      <th>id</th>\n",
       "      <th></th>\n",
       "      <th></th>\n",
       "      <th></th>\n",
       "      <th></th>\n",
       "      <th></th>\n",
       "      <th></th>\n",
       "      <th></th>\n",
       "      <th></th>\n",
       "      <th></th>\n",
       "      <th></th>\n",
       "    </tr>\n",
       "  </thead>\n",
       "  <tbody>\n",
       "    <tr>\n",
       "      <th>1</th>\n",
       "      <td>Air_India</td>\n",
       "      <td>AI-765</td>\n",
       "      <td>Kolkata</td>\n",
       "      <td>Evening</td>\n",
       "      <td>one</td>\n",
       "      <td>Night</td>\n",
       "      <td>Delhi</td>\n",
       "      <td>Business</td>\n",
       "      <td>28.25</td>\n",
       "      <td>2</td>\n",
       "    </tr>\n",
       "    <tr>\n",
       "      <th>2</th>\n",
       "      <td>Vistara</td>\n",
       "      <td>UK-747</td>\n",
       "      <td>Delhi</td>\n",
       "      <td>Early_Morning</td>\n",
       "      <td>one</td>\n",
       "      <td>Night</td>\n",
       "      <td>Mumbai</td>\n",
       "      <td>Business</td>\n",
       "      <td>13.83</td>\n",
       "      <td>34</td>\n",
       "    </tr>\n",
       "    <tr>\n",
       "      <th>3</th>\n",
       "      <td>Air_India</td>\n",
       "      <td>AI-570</td>\n",
       "      <td>Mumbai</td>\n",
       "      <td>Early_Morning</td>\n",
       "      <td>zero</td>\n",
       "      <td>Early_Morning</td>\n",
       "      <td>Chennai</td>\n",
       "      <td>Business</td>\n",
       "      <td>2.00</td>\n",
       "      <td>30</td>\n",
       "    </tr>\n",
       "    <tr>\n",
       "      <th>4</th>\n",
       "      <td>AirAsia</td>\n",
       "      <td>I5-974</td>\n",
       "      <td>Hyderabad</td>\n",
       "      <td>Night</td>\n",
       "      <td>one</td>\n",
       "      <td>Late_Night</td>\n",
       "      <td>Delhi</td>\n",
       "      <td>Economy</td>\n",
       "      <td>5.17</td>\n",
       "      <td>26</td>\n",
       "    </tr>\n",
       "    <tr>\n",
       "      <th>5</th>\n",
       "      <td>Air_India</td>\n",
       "      <td>AI-770</td>\n",
       "      <td>Kolkata</td>\n",
       "      <td>Night</td>\n",
       "      <td>one</td>\n",
       "      <td>Afternoon</td>\n",
       "      <td>Mumbai</td>\n",
       "      <td>Economy</td>\n",
       "      <td>16.33</td>\n",
       "      <td>35</td>\n",
       "    </tr>\n",
       "  </tbody>\n",
       "</table>\n",
       "</div>"
      ],
      "text/plain": [
       "      airline  flight source_city departure_time stops   arrival_time  \\\n",
       "id                                                                      \n",
       "1   Air_India  AI-765     Kolkata        Evening   one          Night   \n",
       "2     Vistara  UK-747       Delhi  Early_Morning   one          Night   \n",
       "3   Air_India  AI-570      Mumbai  Early_Morning  zero  Early_Morning   \n",
       "4     AirAsia  I5-974   Hyderabad          Night   one     Late_Night   \n",
       "5   Air_India  AI-770     Kolkata          Night   one      Afternoon   \n",
       "\n",
       "   destination_city     class  duration  days_left  \n",
       "id                                                  \n",
       "1             Delhi  Business     28.25          2  \n",
       "2            Mumbai  Business     13.83         34  \n",
       "3           Chennai  Business      2.00         30  \n",
       "4             Delhi   Economy      5.17         26  \n",
       "5            Mumbai   Economy     16.33         35  "
      ]
     },
     "execution_count": 45,
     "metadata": {},
     "output_type": "execute_result"
    }
   ],
   "source": [
    "test_data = pd.read_csv('./data/test_data.csv', index_col=0)\n",
    "test_data.head()"
   ]
  },
  {
   "cell_type": "code",
   "execution_count": 48,
   "metadata": {},
   "outputs": [
    {
     "data": {
      "text/plain": [
       "(5000, 1)"
      ]
     },
     "execution_count": 48,
     "metadata": {},
     "output_type": "execute_result"
    }
   ],
   "source": [
    "ss_df = pd.read_csv('./data/sample_solution.csv', index_col=0)\n",
    "ss_df.shape"
   ]
  },
  {
   "cell_type": "code",
   "execution_count": 59,
   "metadata": {},
   "outputs": [],
   "source": [
    "X_prepered = pipline.fit_transform(test_data)\n",
    "ss_df['price'] = RF_model.predict(X_prepered)"
   ]
  },
  {
   "cell_type": "code",
   "execution_count": 60,
   "metadata": {},
   "outputs": [
    {
     "data": {
      "text/html": [
       "<div>\n",
       "<style scoped>\n",
       "    .dataframe tbody tr th:only-of-type {\n",
       "        vertical-align: middle;\n",
       "    }\n",
       "\n",
       "    .dataframe tbody tr th {\n",
       "        vertical-align: top;\n",
       "    }\n",
       "\n",
       "    .dataframe thead th {\n",
       "        text-align: right;\n",
       "    }\n",
       "</style>\n",
       "<table border=\"1\" class=\"dataframe\">\n",
       "  <thead>\n",
       "    <tr style=\"text-align: right;\">\n",
       "      <th></th>\n",
       "      <th>price</th>\n",
       "    </tr>\n",
       "    <tr>\n",
       "      <th>id</th>\n",
       "      <th></th>\n",
       "    </tr>\n",
       "  </thead>\n",
       "  <tbody>\n",
       "    <tr>\n",
       "      <th>1</th>\n",
       "      <td>53568.82</td>\n",
       "    </tr>\n",
       "    <tr>\n",
       "      <th>2</th>\n",
       "      <td>55497.15</td>\n",
       "    </tr>\n",
       "    <tr>\n",
       "      <th>3</th>\n",
       "      <td>23102.34</td>\n",
       "    </tr>\n",
       "    <tr>\n",
       "      <th>4</th>\n",
       "      <td>3380.99</td>\n",
       "    </tr>\n",
       "    <tr>\n",
       "      <th>5</th>\n",
       "      <td>5728.02</td>\n",
       "    </tr>\n",
       "  </tbody>\n",
       "</table>\n",
       "</div>"
      ],
      "text/plain": [
       "       price\n",
       "id          \n",
       "1   53568.82\n",
       "2   55497.15\n",
       "3   23102.34\n",
       "4    3380.99\n",
       "5    5728.02"
      ]
     },
     "execution_count": 60,
     "metadata": {},
     "output_type": "execute_result"
    }
   ],
   "source": [
    "ss_df.head()"
   ]
  },
  {
   "cell_type": "code",
   "execution_count": 61,
   "metadata": {},
   "outputs": [],
   "source": [
    "ss_df.to_csv('mysolution.csv')"
   ]
  }
 ],
 "metadata": {
  "kernelspec": {
   "display_name": "ml",
   "language": "python",
   "name": "python3"
  },
  "language_info": {
   "codemirror_mode": {
    "name": "ipython",
    "version": 3
   },
   "file_extension": ".py",
   "mimetype": "text/x-python",
   "name": "python",
   "nbconvert_exporter": "python",
   "pygments_lexer": "ipython3",
   "version": "3.8.16"
  },
  "orig_nbformat": 4,
  "vscode": {
   "interpreter": {
    "hash": "3ee999f7201136385c3df185c3004a5a6fcbeacd0d545c3a15502ba2abf9d94c"
   }
  }
 },
 "nbformat": 4,
 "nbformat_minor": 2
}
